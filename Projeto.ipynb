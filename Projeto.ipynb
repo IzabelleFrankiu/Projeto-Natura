{
 "cells": [
  {
   "cell_type": "raw",
   "id": "892ca674-5249-4696-98fe-3f6db1af424f",
   "metadata": {},
   "source": [
    "---\n",
    "title: \"Projeto Final de Raciocínio Algorítmo\"\n",
    "author: \"Izabelle de Fátima Frankiu\"\n",
    "date: \"20 de junho de 2023\"\n",
    "lang: pt\n",
    "format: \n",
    "  html:\n",
    "    code-tools: true\n",
    "    code-fold: true\n",
    "    default-image-extension: png\n",
    "    page-layout: full\n",
    "jupyter: python3\n",
    "---"
   ]
  },
  {
   "cell_type": "markdown",
   "id": "12ae7292-1a17-49ca-95b8-7d6fe4b2da3f",
   "metadata": {},
   "source": [
    "# Projeto Final Raciocínio Algorítmico\n",
    "\n",
    "### Dados do balanço patrimonial da empresa Natura S.A\n",
    "\n",
    "### Período: 2020, 2021 e 2022\n",
    "\n",
    "    O presente projeto apresenta dados trimestrais do Balanço Patrimonial da Empresa Natura S.A nos anos de 2020, 2021 e 2022. Também aborda a situação do capital circulante líquido da Empresa no período em questão.\n",
    "    \n",
    "    A definição do período de abrangência da amostra foi realizada com base nos dados informados no site \"Fundamentus\", de modo ao período definido ser o mesmo disponibilizado pelo site.\n",
    "    "
   ]
  },
  {
   "cell_type": "markdown",
   "id": "b69a63e6-17d8-4ae7-9006-35cf3c579f7f",
   "metadata": {},
   "source": [
    "1) Escolha da base de dados: o aluno tem liberdade para escolher a base de dados que utilizará na atividade, desde dados de uma empresa ao longo do tempo, de várias empresas em um determinado momento, até indicadores econômicos, sociais ou demográficos. Pode ser em formato CSV ou utilizando alguma biblioteca (API) específica, como fizemos com o Ipeadata. Caso precise, segue lista de locais para baixar bases de dados (https://www.cienciadedados.org/bancosdadosLinks to an external site.)\n",
    "\n",
    "1.1) Restrição: uma base com, pelo menos, 3 variáveis (colunas) numéricas. Deve importar a base para o projeto e apresentar as primeiras linhas para confirmar"
   ]
  },
  {
   "cell_type": "code",
   "execution_count": 12,
   "id": "4b218d4c-e2bd-4f0a-a603-47fd406d4110",
   "metadata": {},
   "outputs": [
    {
     "data": {
      "text/html": [
       "<div>\n",
       "<style scoped>\n",
       "    .dataframe tbody tr th:only-of-type {\n",
       "        vertical-align: middle;\n",
       "    }\n",
       "\n",
       "    .dataframe tbody tr th {\n",
       "        vertical-align: top;\n",
       "    }\n",
       "\n",
       "    .dataframe thead th {\n",
       "        text-align: right;\n",
       "    }\n",
       "</style>\n",
       "<table border=\"1\" class=\"dataframe\">\n",
       "  <thead>\n",
       "    <tr style=\"text-align: right;\">\n",
       "      <th></th>\n",
       "      <th>Período</th>\n",
       "      <th>Ativo Circulante</th>\n",
       "      <th>Ativo Não Circulante</th>\n",
       "      <th>Passivo Circulante</th>\n",
       "      <th>Passivo Não Circulante</th>\n",
       "      <th>Patrimônio Líquido</th>\n",
       "    </tr>\n",
       "  </thead>\n",
       "  <tbody>\n",
       "    <tr>\n",
       "      <th>0</th>\n",
       "      <td>31/12/2022</td>\n",
       "      <td>16121527</td>\n",
       "      <td>42083379</td>\n",
       "      <td>13337868</td>\n",
       "      <td>18996339</td>\n",
       "      <td>22332734</td>\n",
       "    </tr>\n",
       "    <tr>\n",
       "      <th>1</th>\n",
       "      <td>30/09/2022</td>\n",
       "      <td>15685267</td>\n",
       "      <td>42520438</td>\n",
       "      <td>12303579</td>\n",
       "      <td>19194874</td>\n",
       "      <td>22984957</td>\n",
       "    </tr>\n",
       "    <tr>\n",
       "      <th>2</th>\n",
       "      <td>30/06/2022</td>\n",
       "      <td>15089213</td>\n",
       "      <td>42582143</td>\n",
       "      <td>11638867</td>\n",
       "      <td>18442504</td>\n",
       "      <td>24231110</td>\n",
       "    </tr>\n",
       "    <tr>\n",
       "      <th>3</th>\n",
       "      <td>31/03/2022</td>\n",
       "      <td>14749007</td>\n",
       "      <td>40512662</td>\n",
       "      <td>14285550</td>\n",
       "      <td>14098044</td>\n",
       "      <td>23821944</td>\n",
       "    </tr>\n",
       "    <tr>\n",
       "      <th>4</th>\n",
       "      <td>31/12/2021</td>\n",
       "      <td>17449875</td>\n",
       "      <td>45952689</td>\n",
       "      <td>13693877</td>\n",
       "      <td>18187889</td>\n",
       "      <td>28545570</td>\n",
       "    </tr>\n",
       "  </tbody>\n",
       "</table>\n",
       "</div>"
      ],
      "text/plain": [
       "      Período  Ativo Circulante  Ativo Não Circulante  Passivo Circulante  \\\n",
       "0  31/12/2022          16121527              42083379            13337868   \n",
       "1  30/09/2022          15685267              42520438            12303579   \n",
       "2  30/06/2022          15089213              42582143            11638867   \n",
       "3  31/03/2022          14749007              40512662            14285550   \n",
       "4  31/12/2021          17449875              45952689            13693877   \n",
       "\n",
       "   Passivo Não Circulante  Patrimônio Líquido  \n",
       "0                18996339            22332734  \n",
       "1                19194874            22984957  \n",
       "2                18442504            24231110  \n",
       "3                14098044            23821944  \n",
       "4                18187889            28545570  "
      ]
     },
     "execution_count": 12,
     "metadata": {},
     "output_type": "execute_result"
    }
   ],
   "source": [
    "#| label: table\n",
    "#| echo: false\n",
    "#| tbl-cap: \"Dados Balanço Patrimonial Trimestral da Empresa Natura S.A\"\n",
    "\n",
    "import pandas as pd\n",
    "\n",
    "arquivo = \"C:\\\\users\\\\Izabelle\\\\Documents\\\\dadosnatura.csv\" \n",
    "df = pd.read_csv(arquivo, sep=';') \n",
    "\n",
    "df.head()"
   ]
  },
  {
   "cell_type": "markdown",
   "id": "f7605d34-e17c-499b-8612-a180e8ce1e9c",
   "metadata": {},
   "source": [
    "2) Criação de função própria: durante o projeto, deve criar e utilizar, pelo menos, 1 função própria\n",
    "2.1) Restrição: a função pode ser do tipo def ou lambda, mas precisa ser criada e utilizada em algum momento do projeto\n"
   ]
  },
  {
   "cell_type": "code",
   "execution_count": 13,
   "id": "1243f073-1a10-4538-892d-5c396e2d1185",
   "metadata": {},
   "outputs": [
    {
     "data": {
      "text/html": [
       "<div>\n",
       "<style scoped>\n",
       "    .dataframe tbody tr th:only-of-type {\n",
       "        vertical-align: middle;\n",
       "    }\n",
       "\n",
       "    .dataframe tbody tr th {\n",
       "        vertical-align: top;\n",
       "    }\n",
       "\n",
       "    .dataframe thead th {\n",
       "        text-align: right;\n",
       "    }\n",
       "</style>\n",
       "<table border=\"1\" class=\"dataframe\">\n",
       "  <thead>\n",
       "    <tr style=\"text-align: right;\">\n",
       "      <th></th>\n",
       "      <th>Período</th>\n",
       "      <th>Ativo Circulante</th>\n",
       "      <th>Ativo Não Circulante</th>\n",
       "      <th>Passivo Circulante</th>\n",
       "      <th>Passivo Não Circulante</th>\n",
       "      <th>Patrimônio Líquido</th>\n",
       "      <th>Capital Circulante Liquido</th>\n",
       "    </tr>\n",
       "  </thead>\n",
       "  <tbody>\n",
       "    <tr>\n",
       "      <th>0</th>\n",
       "      <td>31/12/2022</td>\n",
       "      <td>16121527</td>\n",
       "      <td>42083379</td>\n",
       "      <td>13337868</td>\n",
       "      <td>18996339</td>\n",
       "      <td>22332734</td>\n",
       "      <td>2783659</td>\n",
       "    </tr>\n",
       "    <tr>\n",
       "      <th>1</th>\n",
       "      <td>30/09/2022</td>\n",
       "      <td>15685267</td>\n",
       "      <td>42520438</td>\n",
       "      <td>12303579</td>\n",
       "      <td>19194874</td>\n",
       "      <td>22984957</td>\n",
       "      <td>3381688</td>\n",
       "    </tr>\n",
       "    <tr>\n",
       "      <th>2</th>\n",
       "      <td>30/06/2022</td>\n",
       "      <td>15089213</td>\n",
       "      <td>42582143</td>\n",
       "      <td>11638867</td>\n",
       "      <td>18442504</td>\n",
       "      <td>24231110</td>\n",
       "      <td>3450346</td>\n",
       "    </tr>\n",
       "    <tr>\n",
       "      <th>3</th>\n",
       "      <td>31/03/2022</td>\n",
       "      <td>14749007</td>\n",
       "      <td>40512662</td>\n",
       "      <td>14285550</td>\n",
       "      <td>14098044</td>\n",
       "      <td>23821944</td>\n",
       "      <td>463457</td>\n",
       "    </tr>\n",
       "    <tr>\n",
       "      <th>4</th>\n",
       "      <td>31/12/2021</td>\n",
       "      <td>17449875</td>\n",
       "      <td>45952689</td>\n",
       "      <td>13693877</td>\n",
       "      <td>18187889</td>\n",
       "      <td>28545570</td>\n",
       "      <td>3755998</td>\n",
       "    </tr>\n",
       "  </tbody>\n",
       "</table>\n",
       "</div>"
      ],
      "text/plain": [
       "      Período  Ativo Circulante  Ativo Não Circulante  Passivo Circulante  \\\n",
       "0  31/12/2022          16121527              42083379            13337868   \n",
       "1  30/09/2022          15685267              42520438            12303579   \n",
       "2  30/06/2022          15089213              42582143            11638867   \n",
       "3  31/03/2022          14749007              40512662            14285550   \n",
       "4  31/12/2021          17449875              45952689            13693877   \n",
       "\n",
       "   Passivo Não Circulante  Patrimônio Líquido  Capital Circulante Liquido  \n",
       "0                18996339            22332734                     2783659  \n",
       "1                19194874            22984957                     3381688  \n",
       "2                18442504            24231110                     3450346  \n",
       "3                14098044            23821944                      463457  \n",
       "4                18187889            28545570                     3755998  "
      ]
     },
     "execution_count": 13,
     "metadata": {},
     "output_type": "execute_result"
    }
   ],
   "source": [
    "df['Capital Circulante Liquido'] = df.apply(lambda row: row['Ativo Circulante'] - row['Passivo Circulante'], axis=1)\n",
    "df.head()"
   ]
  },
  {
   "cell_type": "code",
   "execution_count": 14,
   "id": "b6587f6b-4a34-41ec-b79b-fbba4b774058",
   "metadata": {},
   "outputs": [],
   "source": [
    "df.to_csv('dadosnaturaatualizados.csv', sep=';', index=False)"
   ]
  },
  {
   "cell_type": "markdown",
   "id": "949d3d7a-a76e-432c-881a-38680b5c5cc5",
   "metadata": {},
   "source": [
    "3) Estrutura de repetição e condição: Ao longo do projeto deve constar o uso de, pelo menos, uma estrutura de repetição (for ou while) e uma estrutura de condição (if, elif, else)\n",
    "\n",
    "3.1) Restrição: Deve ter, pelo menos, uma repetição (for ou while) e uma condição (if)"
   ]
  },
  {
   "cell_type": "code",
   "execution_count": 15,
   "id": "ef0b4f9f-8ca4-4232-85d0-de1d98d08bd2",
   "metadata": {},
   "outputs": [],
   "source": [
    "Total_Ativo = []\n",
    "\n",
    "total_linhas = len(df)\n",
    "\n",
    "linha_atual = 0\n",
    "\n",
    "while linha_atual < total_linhas:\n",
    "\n",
    "    Ativo_Circulante = df.loc[linha_atual, 'Ativo Circulante']\n",
    "    Ativo_Não_Circulante = df.loc[linha_atual, 'Ativo Não Circulante']\n",
    "    \n",
    "    Valor_Ativo_Total = Ativo_Circulante + Ativo_Não_Circulante\n",
    "    \n",
    "    Total_Ativo.append(Valor_Ativo_Total)\n",
    "    \n",
    "    linha_atual += 1\n",
    "\n",
    "df['Total Ativo'] = Total_Ativo\n",
    "\n",
    "df.to_csv('dadosnaturatotalativo.csv', sep=';', index=False)\n"
   ]
  },
  {
   "cell_type": "code",
   "execution_count": 16,
   "id": "5da241ed-1eca-475a-b75c-75b4d9187b00",
   "metadata": {},
   "outputs": [
    {
     "name": "stdout",
     "output_type": "stream",
     "text": [
      "Períodos em que o Patrimônio Líquido é maior que 25.000.000:\n",
      "['31/12/2021', '30/09/2021', '30/06/2021', '31/03/2021', '31/12/2020']\n"
     ]
    }
   ],
   "source": [
    "Períodos_Patrimônio_Líquido_Maior = []\n",
    "\n",
    "for indice, linha in df.iterrows():\n",
    "\n",
    "    Patrimônio_Líquido = linha['Patrimônio Líquido']\n",
    "    \n",
    "    if Patrimônio_Líquido > 25_000_000:\n",
    "        Período = linha['Período']\n",
    "        Períodos_Patrimônio_Líquido_Maior.append(Período)\n",
    "\n",
    "print(\"Períodos em que o Patrimônio Líquido é maior que 25.000.000:\")\n",
    "print(Períodos_Patrimônio_Líquido_Maior)\n"
   ]
  },
  {
   "cell_type": "markdown",
   "id": "c7f9ce63-eb0d-41c8-a773-29fa37ae55d5",
   "metadata": {},
   "source": [
    "4) Funções especiais: Das 5 funções especiais vistas na aula 12 (map, reduce, zap, enumerate e filter), pelo menos 1 delas precisa ser utilizada no projeto de qualquer forma\n",
    "\n",
    "4.1) Restrição: Pelo menos 1 das funções especiais precisar ser utilizada em algum momento do projeto"
   ]
  },
  {
   "cell_type": "code",
   "execution_count": 17,
   "id": "7e1dbac8-41ff-485e-ae38-fdf9845ac43e",
   "metadata": {},
   "outputs": [
    {
     "name": "stdout",
     "output_type": "stream",
     "text": [
      "Nenhum valor do Ativo Circulante é maior que R$ 19.347.507,00, logo a Natura S.A consegue arcar com as suas obrigações de curto prazo.\n"
     ]
    }
   ],
   "source": [
    "from functools import reduce\n",
    "\n",
    "Passivo_Circulante_Maior = reduce(lambda x, y: x or y, df['Passivo Circulante'].map(lambda valor: valor > 19_347_507))\n",
    "\n",
    "if Passivo_Circulante_Maior:\n",
    "    print(\"Existe algum valor do Passivo Circulante maior que R$ 19.347.507,00, logo o capital circulante líquido é negativo.\")\n",
    "else:\n",
    "    print(\"Nenhum valor do Ativo Circulante é maior que R$ 19.347.507,00, logo a Natura S.A consegue arcar com as suas obrigações de curto prazo.\")\n"
   ]
  },
  {
   "cell_type": "markdown",
   "id": "b4be6d7f-a740-4ad2-ab14-680ea531ad1f",
   "metadata": {},
   "source": [
    "5) Resumo estatístico: Entre todas as formas de resumo das variáveis numéricas que vimos ao longo das aulas (operadores matemáticos básicos, sum, mean, median), deve escolher e utilizar pelo menos duas delas. O uso pode ser em alguma função, repetição ou condição, mas em algum lugar precisa realizar algum cálculo.\n",
    "\n",
    "5.1) Restrição: Uso de, pelo menos duas operações matemáticas em qualquer lugar do projeto"
   ]
  },
  {
   "cell_type": "code",
   "execution_count": 18,
   "id": "7a6fc0b6-30cf-4a28-a652-866b89a416e8",
   "metadata": {},
   "outputs": [
    {
     "name": "stdout",
     "output_type": "stream",
     "text": [
      "A Soma do Patrimônio Líquido Total é: 300245064\n"
     ]
    }
   ],
   "source": [
    "Soma_Patrimônio_Líquido_Total = df['Patrimônio Líquido'].sum()\n",
    "print(\"A Soma do Patrimônio Líquido Total é:\", Soma_Patrimônio_Líquido_Total)"
   ]
  },
  {
   "cell_type": "code",
   "execution_count": 19,
   "id": "49227ea5-ee28-426d-8a22-b9ebdeff004c",
   "metadata": {},
   "outputs": [
    {
     "name": "stdout",
     "output_type": "stream",
     "text": [
      "O Número de períodos analisados é: 12\n"
     ]
    }
   ],
   "source": [
    "Número_de_Períodos = len(df)\n",
    "print(\"O Número de períodos analisados é:\", Número_de_Períodos)"
   ]
  },
  {
   "cell_type": "code",
   "execution_count": 20,
   "id": "95d43039-9451-4efa-adb6-791e9174669a",
   "metadata": {},
   "outputs": [
    {
     "name": "stdout",
     "output_type": "stream",
     "text": [
      "O Valor da Média do Patrimônio Líquido Total é: 25020422.0\n"
     ]
    }
   ],
   "source": [
    "Média_Patrimônio_Líquido_Total = Soma_Patrimônio_Líquido_Total / Número_de_Períodos\n",
    "print(\"O Valor da Média do Patrimônio Líquido Total é:\", Média_Patrimônio_Líquido_Total)"
   ]
  },
  {
   "cell_type": "markdown",
   "id": "98b87167-e45d-4266-8f2c-0be1b3052ffc",
   "metadata": {},
   "source": [
    "6) Publicação usando Quarto: O arquivo do projeto deve ser preparado para publicação usando o Quarto. Ao final da construção do projeto, deve parametrizar o arquivo para incluir a célula Raw com os dados de publicação no início e as referências nas células que contenham tabela ou gráfico\n",
    "\n",
    "6.1) Restrição: Parametrização correta da célula Raw no início de referência no início da celula de pelo menos um objeto (tabela ou gráfico)"
   ]
  },
  {
   "cell_type": "code",
   "execution_count": null,
   "id": "111b1e05-cbf9-42b7-96fb-02337737f298",
   "metadata": {},
   "outputs": [],
   "source": []
  }
 ],
 "metadata": {
  "kernelspec": {
   "display_name": "Python 3 (ipykernel)",
   "language": "python",
   "name": "python3"
  },
  "language_info": {
   "codemirror_mode": {
    "name": "ipython",
    "version": 3
   },
   "file_extension": ".py",
   "mimetype": "text/x-python",
   "name": "python",
   "nbconvert_exporter": "python",
   "pygments_lexer": "ipython3",
   "version": "3.10.9"
  }
 },
 "nbformat": 4,
 "nbformat_minor": 5
}
